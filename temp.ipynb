{
 "cells": [
  {
   "cell_type": "code",
   "execution_count": 13,
   "metadata": {},
   "outputs": [
    {
     "name": "stdout",
     "output_type": "stream",
     "text": [
      "<class 'pandas.core.frame.DataFrame'>\n",
      "DatetimeIndex: 469 entries, 2022-05-24 to 2022-10-26\n",
      "Data columns (total 5 columns):\n",
      " #   Column           Non-Null Count  Dtype \n",
      "---  ------           --------------  ----- \n",
      " 0   task_id          469 non-null    object\n",
      " 1   title            469 non-null    object\n",
      " 2   icon             469 non-null    object\n",
      " 3   entry_type       469 non-null    object\n",
      " 4   entry_timestamp  469 non-null    object\n",
      "dtypes: object(5)\n",
      "memory usage: 22.0+ KB\n"
     ]
    },
    {
     "data": {
      "text/html": [
       "<div>\n",
       "<style scoped>\n",
       "    .dataframe tbody tr th:only-of-type {\n",
       "        vertical-align: middle;\n",
       "    }\n",
       "\n",
       "    .dataframe tbody tr th {\n",
       "        vertical-align: top;\n",
       "    }\n",
       "\n",
       "    .dataframe thead th {\n",
       "        text-align: right;\n",
       "    }\n",
       "</style>\n",
       "<table border=\"1\" class=\"dataframe\">\n",
       "  <thead>\n",
       "    <tr style=\"text-align: right;\">\n",
       "      <th></th>\n",
       "      <th>task_id</th>\n",
       "      <th>title</th>\n",
       "      <th>icon</th>\n",
       "      <th>entry_type</th>\n",
       "      <th>entry_timestamp</th>\n",
       "    </tr>\n",
       "    <tr>\n",
       "      <th>entry_date</th>\n",
       "      <th></th>\n",
       "      <th></th>\n",
       "      <th></th>\n",
       "      <th></th>\n",
       "      <th></th>\n",
       "    </tr>\n",
       "  </thead>\n",
       "  <tbody>\n",
       "    <tr>\n",
       "      <th>2022-05-24</th>\n",
       "      <td>2DB86AC7-CA30-482C-92C8-00BFE1754344</td>\n",
       "      <td>Tidy Up, 20:00</td>\n",
       "      <td>ic_broom</td>\n",
       "      <td>timer_manually</td>\n",
       "      <td>2022-05-24T16:57:15.232Z</td>\n",
       "    </tr>\n",
       "    <tr>\n",
       "      <th>2022-05-24</th>\n",
       "      <td>2DB86AC7-CA30-482C-92C8-00BFE1754344</td>\n",
       "      <td>Tidy Up, 20:00</td>\n",
       "      <td>ic_broom</td>\n",
       "      <td>completed_manually</td>\n",
       "      <td>2022-05-24T16:57:19.721Z</td>\n",
       "    </tr>\n",
       "    <tr>\n",
       "      <th>2022-05-25</th>\n",
       "      <td>2DB86AC7-CA30-482C-92C8-00BFE1754344</td>\n",
       "      <td>Tidy Up, 20:00</td>\n",
       "      <td>ic_broom</td>\n",
       "      <td>completed_manually</td>\n",
       "      <td>2022-05-25T21:22:39.320Z</td>\n",
       "    </tr>\n",
       "    <tr>\n",
       "      <th>2022-05-26</th>\n",
       "      <td>2DB86AC7-CA30-482C-92C8-00BFE1754344</td>\n",
       "      <td>Tidy Up, 20:00</td>\n",
       "      <td>ic_broom</td>\n",
       "      <td>completed_manually</td>\n",
       "      <td>2022-05-26T16:51:19.395Z</td>\n",
       "    </tr>\n",
       "    <tr>\n",
       "      <th>2022-05-27</th>\n",
       "      <td>2DB86AC7-CA30-482C-92C8-00BFE1754344</td>\n",
       "      <td>Tidy Up, 20:00</td>\n",
       "      <td>ic_broom</td>\n",
       "      <td>completed_manually</td>\n",
       "      <td>2022-05-27T17:07:59.801Z</td>\n",
       "    </tr>\n",
       "  </tbody>\n",
       "</table>\n",
       "</div>"
      ],
      "text/plain": [
       "                                         task_id           title      icon  \\\n",
       "entry_date                                                                   \n",
       "2022-05-24  2DB86AC7-CA30-482C-92C8-00BFE1754344  Tidy Up, 20:00  ic_broom   \n",
       "2022-05-24  2DB86AC7-CA30-482C-92C8-00BFE1754344  Tidy Up, 20:00  ic_broom   \n",
       "2022-05-25  2DB86AC7-CA30-482C-92C8-00BFE1754344  Tidy Up, 20:00  ic_broom   \n",
       "2022-05-26  2DB86AC7-CA30-482C-92C8-00BFE1754344  Tidy Up, 20:00  ic_broom   \n",
       "2022-05-27  2DB86AC7-CA30-482C-92C8-00BFE1754344  Tidy Up, 20:00  ic_broom   \n",
       "\n",
       "                    entry_type           entry_timestamp  \n",
       "entry_date                                                \n",
       "2022-05-24      timer_manually  2022-05-24T16:57:15.232Z  \n",
       "2022-05-24  completed_manually  2022-05-24T16:57:19.721Z  \n",
       "2022-05-25  completed_manually  2022-05-25T21:22:39.320Z  \n",
       "2022-05-26  completed_manually  2022-05-26T16:51:19.395Z  \n",
       "2022-05-27  completed_manually  2022-05-27T17:07:59.801Z  "
      ]
     },
     "execution_count": 13,
     "metadata": {},
     "output_type": "execute_result"
    }
   ],
   "source": [
    "import pandas as pd\n",
    "import numpy as np\n",
    "\n",
    "df = pd.read_csv(\"tmp.csv\", header=0, parse_dates=[4], index_col=4, na_values=[-1], sep=\",\")\n",
    "df = df.drop([\"quantity\", \"page\"], axis=1)\n",
    "df.info()\n",
    "df.head()"
   ]
  },
  {
   "cell_type": "code",
   "execution_count": 14,
   "metadata": {},
   "outputs": [
    {
     "name": "stdout",
     "output_type": "stream",
     "text": [
      "                                         task_id              title  \\\n",
      "entry_date                                                            \n",
      "2022-05-26  2DB86AC7-CA30-482C-92C8-00BFE1754344     Tidy Up, 20:00   \n",
      "2022-05-26  ADBFEBE0-861A-403B-B917-4B12B7972F40  Any Workout, 50kJ   \n",
      "2022-05-26  80A98857-1E5E-438C-BF39-9D497F3D97A2      Code Anything   \n",
      "\n",
      "                 icon          entry_type           entry_timestamp  \n",
      "entry_date                                                           \n",
      "2022-05-26   ic_broom  completed_manually  2022-05-26T16:51:19.395Z  \n",
      "2022-05-26  ic_biceps     missed_manually  2022-05-26T16:51:29.171Z  \n",
      "2022-05-26    ic_code  completed_manually  2022-05-26T16:51:21.971Z  \n"
     ]
    }
   ],
   "source": [
    "def get_tasks(date):\n",
    "    print(df.loc[date].drop_duplicates(subset='task_id', keep=\"last\"))#.groupby([\"machine-type\", \"site-name\"])[\"machine-status\"].value_counts().unstack(0).plot(kind=\"bar\")\n",
    "\n",
    "plot_datetime(\"2022-05-26\")"
   ]
  }
 ],
 "metadata": {
  "kernelspec": {
   "display_name": "Python 3",
   "language": "python",
   "name": "python3"
  },
  "language_info": {
   "codemirror_mode": {
    "name": "ipython",
    "version": 3
   },
   "file_extension": ".py",
   "mimetype": "text/x-python",
   "name": "python",
   "nbconvert_exporter": "python",
   "pygments_lexer": "ipython3",
   "version": "3.9.13"
  },
  "orig_nbformat": 4,
  "vscode": {
   "interpreter": {
    "hash": "b0fa6594d8f4cbf19f97940f81e996739fb7646882a419484c72d19e05852a7e"
   }
  }
 },
 "nbformat": 4,
 "nbformat_minor": 2
}
